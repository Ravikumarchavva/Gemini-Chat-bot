{
 "cells": [
  {
   "cell_type": "code",
   "execution_count": 1,
   "metadata": {},
   "outputs": [
    {
     "name": "stdout",
     "output_type": "stream",
     "text": [
      "Error: 'GenerativeModel' object has no attribute 'finetune'. The 'GenerativeModel' object has no attribute 'finetune'.\n"
     ]
    },
    {
     "name": "stderr",
     "output_type": "stream",
     "text": [
      "c:\\Users\\chavv\\anaconda\\envs\\gemini\\Lib\\site-packages\\tqdm\\auto.py:21: TqdmWarning: IProgress not found. Please update jupyter and ipywidgets. See https://ipywidgets.readthedocs.io/en/stable/user_install.html\n",
      "  from .autonotebook import tqdm as notebook_tqdm\n"
     ]
    }
   ],
   "source": [
    "import google.generativeai as genai\n",
    "#import env\n",
    "import os\n",
    "from dotenv import load_dotenv\n",
    "load_dotenv()\n",
    "\n",
    "GCP_KEY = os.getenv(\"GCP_KEY\")\n",
    "\n",
    "\n",
    "genai.configure(api_key=GCP_KEY)\n",
    "model = genai.GenerativeModel(\"gemini-1.5-flash\")\n",
    "\n",
    "# Attempt to fine-tune the model using resume pdf\n",
    "try:\n",
    "\tmodel.finetune(\"resume.pdf\")\n",
    "except AttributeError as e:\n",
    "\tprint(f\"Error: {e}. The 'GenerativeModel' object has no attribute 'finetune'.\")\n",
    "\t# Add alternative code or method for fine-tuning if available"
   ]
  },
  {
   "cell_type": "code",
   "execution_count": 2,
   "metadata": {},
   "outputs": [
    {
     "name": "stdout",
     "output_type": "stream",
     "text": [
      "tunedModels/generate-num-8637\n"
     ]
    }
   ],
   "source": [
    "for i, m in zip(range(5), genai.list_tuned_models()):\n",
    "  print(m.name)"
   ]
  },
  {
   "cell_type": "code",
   "execution_count": 3,
   "metadata": {},
   "outputs": [
    {
     "data": {
      "text/plain": [
       "Model(name='models/gemini-1.5-flash-001-tuning',\n",
       "      base_model_id='',\n",
       "      version='001',\n",
       "      display_name='Gemini 1.5 Flash 001 Tuning',\n",
       "      description=('Version of Gemini 1.5 Flash that supports tuning, our fast and versatile '\n",
       "                   'multimodal model for scaling across diverse tasks, released in May of 2024.'),\n",
       "      input_token_limit=16384,\n",
       "      output_token_limit=8192,\n",
       "      supported_generation_methods=['generateContent', 'countTokens', 'createTunedModel'],\n",
       "      temperature=1.0,\n",
       "      max_temperature=2.0,\n",
       "      top_p=0.95,\n",
       "      top_k=64)"
      ]
     },
     "execution_count": 3,
     "metadata": {},
     "output_type": "execute_result"
    }
   ],
   "source": [
    "base_model = [\n",
    "    m for m in genai.list_models()\n",
    "    if \"createTunedModel\" in m.supported_generation_methods and\n",
    "    \"flash\" in m.name][0]\n",
    "base_model"
   ]
  },
  {
   "cell_type": "code",
   "execution_count": 4,
   "metadata": {},
   "outputs": [],
   "source": [
    "import random\n",
    "\n",
    "name = f'generate-num-{random.randint(0,10000)}'\n",
    "operation = genai.create_tuned_model(\n",
    "    source_model=base_model.name,\n",
    "    training_data=[\n",
    "        {\n",
    "            \"text_input\": \"Summarize the following resume: Ravi Kumar Chavva, B. Tech in Computer Science and Engineering, CGPA 8.4/10. Skills: Python, TypeScript, TensorFlow, FastAPI. Projects: Customer Churn Prediction (86% recall with FastAPI deployment), Car Price Prediction (85% adjusted R²), IPL Score Prediction (92% accuracy).\",\n",
    "            \"output\": \"Ravi Kumar Chavva, B. Tech in CSE (8.4 CGPA). Proficient in Python, TypeScript, TensorFlow, and FastAPI. Key projects: churn prediction (86% recall), car price prediction (85% R²), and IPL score prediction (92% accuracy).\"\n",
    "        },\n",
    "        {\n",
    "            \"text_input\": \"Rephrase: Ravi led the Data Nexus association at his college, organizing workshops and peer sessions to accelerate data science learning among students.\",\n",
    "            \"output\": \"As the founder of Data Nexus, Ravi enhanced data science education by hosting workshops and collaborative learning sessions.\"\n",
    "        },\n",
    "        {\n",
    "            \"text_input\": \"What is Ravi Kumar Chavva's educational background?\",\n",
    "            \"output\": \"Ravi Kumar Chavva is pursuing a B. Tech in Computer Science and Engineering (CGPA: 8.4/10) at Sri Venkateswara College of Engineering.\"\n",
    "        },\n",
    "        {\n",
    "            \"text_input\": \"List Ravi's technical skills.\",\n",
    "            \"output\": \"Programming: Python, C, TypeScript. ML/Deep Learning: Scikit-learn, TensorFlow, PyTorch. Data Analysis: SQL, Polars, PySpark. Cloud: Azure, GCP. DevOps: FastAPI, Docker, GitHub Actions.\"\n",
    "        },\n",
    "        {\n",
    "            \"text_input\": \"Highlight Ravi's achievements.\",\n",
    "            \"output\": \"Founded Data Nexus, a data science association fostering peer-to-peer learning. Achieved recall of 86% in churn prediction and accuracy of 92% in IPL score prediction models.\"\n",
    "        },\n",
    "        {\n",
    "            \"text_input\": \"Describe Ravi's project on Customer Churn Prediction.\",\n",
    "            \"output\": \"Performed EDA on over 8,000+ customer records, identifying key churn factors and driving actionable insights. Built a classification model to predict customer churn, starting with linear models like Logistic Regression and achieving 56% recall. Addressed class imbalance using SMOTE, improving the model's generalization ability on imbalanced datasets. Employed Boosting algorithms such as CatBoost and Bayesian Search to fine-tune non-linear models, achieving a 30% recall improvement over the baseline logistic model, leading to 86% recall. Built the model as a serverless container using FastAPI for the backend to interact with the portfolio, enabling real-time churn predictions with a response time of under 3 seconds.\"\n",
    "        },\n",
    "        {\n",
    "            \"text_input\": \"Describe Ravi's project on Car Price Prediction.\",\n",
    "            \"output\": \"Trained a baseline model using Linear Regression, achieving an initial adjusted R² score of 39%. Enhanced model accuracy by implementing regularization techniques and conducting error analysis. Improved the adjusted R² score to 85% by incorporating ensemble methods like Bagging and Boosting.\"\n",
    "        },\n",
    "        {\n",
    "            \"text_input\": \"Describe Ravi's project on IPL Score Prediction.\",\n",
    "            \"output\": \"Developed a machine learning model with 92% accuracy, improving sports analytics by 20% over baseline models. Preprocessed over 100,000 match data points using Python and Scikit-learn, and optimized model performance with PyCaret. Implemented a Flask web app for user input and predictions, driving consistent engagement. Deployed the solution on Google Kubernetes Engine (GKE), ensuring performance, scalability, and cost efficiency.\"\n",
    "        },\n",
    "        {\n",
    "            \"text_input\": \"What are Ravi's programming skills?\",\n",
    "            \"output\": \"Python, C, TypeScript\"\n",
    "        },\n",
    "        {\n",
    "            \"text_input\": \"What are Ravi's machine learning and deep learning skills?\",\n",
    "            \"output\": \"Scikit-learn, TensorFlow, PyTorch, PyCaret, Computer Vision\"\n",
    "        },\n",
    "        {\n",
    "            \"text_input\": \"What are Ravi's data analysis and visualization skills?\",\n",
    "            \"output\": \"SQL, Polars, Statistical Analysis, PySpark\"\n",
    "        },\n",
    "        {\n",
    "            \"text_input\": \"What are Ravi's MLOps and cloud computing skills?\",\n",
    "            \"output\": \"Weights & Biases, Azure (ADF, Databricks, Storage), GCP (Cloud Run)\"\n",
    "        },\n",
    "        {\n",
    "            \"text_input\": \"What are Ravi's DevOps and deployment skills?\",\n",
    "            \"output\": \"FastAPI, Docker, GitHub Actions, Google Cloud Run\"\n",
    "        },\n",
    "        {\n",
    "            \"text_input\": \"What are Ravi's other technical skills?\",\n",
    "            \"output\": \"Data Structures and Algorithms, Next.js, Hadoop\"\n",
    "        },\n",
    "        {\n",
    "            \"text_input\": \"What is Ravi's educational background?\",\n",
    "            \"output\": \"Bachelor of Technology (B. Tech) in Computer Science and Engineering from Sri Venkateswara College of Engineering, Tirupati, India (2021 – Present) with a CGPA of 8.4/10. Completed education at Sri Chaitanya Junior College, Andhra Pradesh, India (2019 – 2021) with 94.7%. Completed education at Target English Medium School, Andhra Pradesh, India (2010 – 2019) with 10 GPA.\"\n",
    "        },\n",
    "        {\n",
    "            \"text_input\": \"What certifications does Ravi hold?\",\n",
    "            \"output\": \"Machine Learning for Engineering and Science Applications – NPTEL\"\n",
    "        },\n",
    "        {\n",
    "            \"text_input\": \"Describe Ravi's experience at ExcelR.\",\n",
    "            \"output\": \"Gained hands-on experience with the Data Science Process, from data collection and cleaning to model deployment. Developed and deployed multiple machine learning models, optimizing workflows and reducing data processing time by 15%.\"\n",
    "        },\n",
    "        {\n",
    "            \"text_input\": \"What are Ravi's achievements?\",\n",
    "            \"output\": \"Initiated Data Nexus: Founded and led a data science Association, 'Data Nexus,' at college to help fellow students accelerate their learning in data science through peer-to-peer sessions, workshops, and resources.\"\n",
    "        }\n",
    "    ],\n",
    "    id=name,\n",
    "    epoch_count=100,\n",
    "    batch_size=4,\n",
    "    learning_rate=0.001,\n",
    ")"
   ]
  },
  {
   "cell_type": "code",
   "execution_count": 5,
   "metadata": {},
   "outputs": [
    {
     "data": {
      "text/plain": [
       "TunedModel(name='tunedModels/generate-num-6310',\n",
       "           source_model='models/gemini-1.5-flash-001-tuning',\n",
       "           base_model='models/gemini-1.5-flash-001-tuning',\n",
       "           display_name='',\n",
       "           description='',\n",
       "           temperature=1.0,\n",
       "           top_p=0.95,\n",
       "           top_k=64,\n",
       "           state=<State.CREATING: 1>,\n",
       "           create_time=datetime.datetime(2024, 11, 20, 10, 0, 1, 291730, tzinfo=datetime.timezone.utc),\n",
       "           update_time=datetime.datetime(2024, 11, 20, 10, 0, 1, 291730, tzinfo=datetime.timezone.utc),\n",
       "           tuning_task=TuningTask(start_time=None,\n",
       "                                  complete_time=None,\n",
       "                                  snapshots=[],\n",
       "                                  hyperparameters=Hyperparameters(epoch_count=100,\n",
       "                                                                  batch_size=4,\n",
       "                                                                  learning_rate=0.001)),\n",
       "           reader_project_numbers=None)"
      ]
     },
     "execution_count": 5,
     "metadata": {},
     "output_type": "execute_result"
    }
   ],
   "source": [
    "model = genai.get_tuned_model(f'tunedModels/{name}')\n",
    "\n",
    "model"
   ]
  },
  {
   "cell_type": "code",
   "execution_count": 6,
   "metadata": {},
   "outputs": [
    {
     "data": {
      "text/plain": [
       "<State.CREATING: 1>"
      ]
     },
     "execution_count": 6,
     "metadata": {},
     "output_type": "execute_result"
    }
   ],
   "source": [
    "model.state"
   ]
  },
  {
   "cell_type": "code",
   "execution_count": 7,
   "metadata": {},
   "outputs": [
    {
     "data": {
      "text/plain": [
       "total_steps: 450\n",
       "tuned_model: \"tunedModels/generate-num-6310\""
      ]
     },
     "execution_count": 7,
     "metadata": {},
     "output_type": "execute_result"
    }
   ],
   "source": [
    "operation.metadata"
   ]
  },
  {
   "cell_type": "code",
   "execution_count": 8,
   "metadata": {},
   "outputs": [
    {
     "name": "stderr",
     "output_type": "stream",
     "text": [
      "100%|██████████| 450/450 [28:09<00:00,  3.75s/it]\n"
     ]
    }
   ],
   "source": [
    "import time\n",
    "\n",
    "for status in operation.wait_bar():\n",
    "  time.sleep(30)"
   ]
  },
  {
   "cell_type": "code",
   "execution_count": 12,
   "metadata": {},
   "outputs": [
    {
     "data": {
      "text/plain": [
       "<Axes: xlabel='epoch', ylabel='mean_loss'>"
      ]
     },
     "execution_count": 12,
     "metadata": {},
     "output_type": "execute_result"
    },
    {
     "data": {
      "image/png": "[encoded data removed]",
      "text/plain": [
       "<Figure size 640x480 with 1 Axes>"
      ]
     },
     "metadata": {},
     "output_type": "display_data"
    }
   ],
   "source": [
    "import pandas as pd\n",
    "import seaborn as sns\n",
    "\n",
    "model = operation.result()\n",
    "\n",
    "snapshots = pd.DataFrame(model.tuning_task.snapshots)\n",
    "\n",
    "sns.lineplot(data=snapshots, x = 'epoch', y='mean_loss')"
   ]
  },
  {
   "cell_type": "code",
   "execution_count": null,
   "metadata": {},
   "outputs": [
    {
     "data": {
      "text/plain": [
       "'Ravi Kumar Chavva is proficient in Python, SQL, Polars, PySpark, and the Hadoop ecosystem. Key projects include a portfolio tracker with a web interface using FastAPI for the backend, a SQL database to store data, and Polars for data analysis.'"
      ]
     },
     "execution_count": 17,
     "metadata": {},
     "output_type": "execute_result"
    }
   ],
   "source": [
    "model = genai.GenerativeModel(model_name=f'tunedModels/{name}')\n",
    "result = model.generate_content('Summarize the Ravi Kumar Chavva skills and projects.')\n",
    "result.text"
   ]
  },
  {
   "cell_type": "code",
   "execution_count": 16,
   "metadata": {},
   "outputs": [
    {
     "data": {
      "text/plain": [
       "'Ravi Kumar Chavva is pursuing a B. Tech in Computer Science and Engineering (CGPA: 8.4/10) at Sri Venkateswara College of Engineering.'"
      ]
     },
     "execution_count": 16,
     "metadata": {},
     "output_type": "execute_result"
    }
   ],
   "source": [
    "result = model.generate_content(\"Tell me about Ravikumar Chavva's Education.\")\n",
    "result.text"
   ]
  },
  {
   "cell_type": "code",
   "execution_count": null,
   "metadata": {},
   "outputs": [],
   "source": []
  }
 ],
 "metadata": {
  "kernelspec": {
   "display_name": "Python 3",
   "language": "python",
   "name": "python3"
  },
  "language_info": {
   "codemirror_mode": {
    "name": "ipython",
    "version": 3
   },
   "file_extension": ".py",
   "mimetype": "text/x-python",
   "name": "python",
   "nbconvert_exporter": "python",
   "pygments_lexer": "ipython3",
   "version": "3.11.10"
  }
 },
 "nbformat": 4,
 "nbformat_minor": 2
}
